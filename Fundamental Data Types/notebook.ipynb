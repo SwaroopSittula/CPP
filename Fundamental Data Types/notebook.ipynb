{
 "cells": [
  {
   "cell_type": "markdown",
   "metadata": {},
   "source": [
    "# Table of Contents\n",
    "1. [sizeof operator](#sizeof-operator)\n",
    "2. [Signed Integers](#signed-integers)\n",
    "3. [Unsigned Integers](#unsigned-integers)\n",
    "4. [Fixed Width Integers](#fixed-width-integers)\n",
    "5. [sizeof_t](#sizeof_t)\n",
    "6. [Scientific Notation](#scientific-notation)\n",
    "7. [Floating point numbers](#floating-point-numbers)\n",
    "8. [Boolean Values](#boolean-values)\n",
    "9. [Introduction to if statements](#introduction-to-if-statements)\n",
    "10. [Chars](#chars)\n",
    "11. [Type Conversion and static_cast](#type-conversion-and-static_cast)\n",
    "\n"
   ]
  },
  {
   "cell_type": "markdown",
   "metadata": {},
   "source": [
    "## sizeof operator\n",
    "- Takes **type** or **variable** as input.\n",
    "- Returns size of the object in **bytes**."
   ]
  },
  {
   "cell_type": "code",
   "execution_count": 1,
   "metadata": {
    "vscode": {
     "languageId": "cpp"
    }
   },
   "outputs": [],
   "source": [
    "#include <iomanip> // for std::setw (which sets the width of the subsequent output)\n",
    "#include <iostream>\n",
    "#include <climits> // for CHAR_BIT"
   ]
  },
  {
   "cell_type": "code",
   "execution_count": 2,
   "metadata": {
    "vscode": {
     "languageId": "cpp"
    }
   },
   "outputs": [
    {
     "name": "stdout",
     "output_type": "stream",
     "text": [
      "A byte is 8 bits\n",
      "\n",
      "bool:           1 bytes\n",
      "char:           1 bytes\n",
      "short:          2 bytes\n",
      "int:            4 bytes\n",
      "long:           8 bytes\n",
      "long long:      8 bytes\n",
      "float:          4 bytes\n",
      "double:         8 bytes\n",
      "long double:    16 bytes\n"
     ]
    }
   ],
   "source": [
    "int main()\n",
    "{\n",
    "    std::cout << \"A byte is \" << CHAR_BIT << \" bits\\n\\n\";\n",
    "\n",
    "    std::cout << std::left; // left justify output\n",
    "\n",
    "    std::cout << std::setw(16) << \"bool:\" << sizeof(bool) << \" bytes\\n\";\n",
    "    std::cout << std::setw(16) << \"char:\" << sizeof(char) << \" bytes\\n\";\n",
    "    std::cout << std::setw(16) << \"short:\" << sizeof(short) << \" bytes\\n\";\n",
    "    std::cout << std::setw(16) << \"int:\" << sizeof(int) << \" bytes\\n\";\n",
    "    std::cout << std::setw(16) << \"long:\" << sizeof(long) << \" bytes\\n\";\n",
    "    std::cout << std::setw(16) << \"long long:\" << sizeof(long long) << \" bytes\\n\";\n",
    "    std::cout << std::setw(16) << \"float:\" << sizeof(float) << \" bytes\\n\";\n",
    "    std::cout << std::setw(16) << \"double:\" << sizeof(double) << \" bytes\\n\";\n",
    "    std::cout << std::setw(16) << \"long double:\" << sizeof(long double) << \" bytes\\n\";\n",
    "\n",
    "    return 0;\n",
    "}\n",
    "\n",
    "// Manually call main in notebook\n",
    "main(); "
   ]
  },
  {
   "cell_type": "markdown",
   "metadata": {},
   "source": [
    "- Results may vary based on compiler, computer arcitecture, OS, compilation settings (32-bit vs 64-bit) etc...\n",
    "- Trying to use `sizeof` on incomplete type (such as `void`) will result in compilation error"
   ]
  },
  {
   "cell_type": "markdown",
   "metadata": {},
   "source": [
    "---\n",
    "\n",
    "## Signed Integers\n",
    "\n",
    "- Signed integers are integers that can only hold positive and negative whole numbers, including 0."
   ]
  },
  {
   "cell_type": "code",
   "execution_count": 3,
   "metadata": {
    "vscode": {
     "languageId": "cpp"
    }
   },
   "outputs": [],
   "source": [
    "// Defining signed integers\n",
    "short s;      // prefer \"short\" instead of \"short int\"\n",
    "int i;\n",
    "long l;       // prefer \"long\" instead of \"long int\"\n",
    "long long ll; // prefer \"long long\" instead of \"long long int\"\n",
    "\n",
    "\n",
    "// However signed keyword should not be used, as it is redundant, since integers are signed by default.\n",
    "signed short ss;\n",
    "signed int si;\n",
    "signed long sl;\n",
    "signed long long sll;"
   ]
  },
  {
   "cell_type": "markdown",
   "metadata": {},
   "source": [
    "### Overflow\n",
    "- **Integer overflow / Arithmetic overflow:** If an arithmetic operation (such as addition or multiplication) attempts to create a value outside the range that can be represented, this is called integer overflow (or arithmetic overflow). For signed integers, integer overflow will result in undefined behavior.\n",
    "\n"
   ]
  },
  {
   "cell_type": "code",
   "execution_count": 4,
   "metadata": {
    "vscode": {
     "languageId": "cpp"
    }
   },
   "outputs": [
    {
     "name": "stdout",
     "output_type": "stream",
     "text": [
      "2147483647\n",
      "-2147483648\n"
     ]
    }
   ],
   "source": [
    "int main()\n",
    "{\n",
    "    // assume 4 byte integers\n",
    "    int x { 2'147'483'647 }; // the maximum value of a 4-byte signed integer\n",
    "    std::cout << x << '\\n';\n",
    "\n",
    "    x = x + 1; // integer overflow, undefined behavior\n",
    "    std::cout << x << '\\n';\n",
    "\n",
    "    return 0;\n",
    "}\n",
    "\n",
    "// Manually call main in notebook\n",
    "main(); "
   ]
  },
  {
   "cell_type": "markdown",
   "metadata": {},
   "source": [
    "---\n",
    "## Unsigned Integers\n",
    "\n",
    "- Unsigned integers are integers that can only hold non-negative whole numbers.\n",
    "- An n-bit unsigned variable has a range of 0 to (2^n)-1.\n",
    "- It is suggested not to use unsigned integers unless it is required / common to do so due to the overflow behaviour it has."
   ]
  },
  {
   "cell_type": "code",
   "execution_count": 5,
   "metadata": {
    "vscode": {
     "languageId": "cpp"
    }
   },
   "outputs": [],
   "source": [
    "// Defining unsigned integers\n",
    "unsigned short us;\n",
    "unsigned int ui;\n",
    "unsigned long ul;\n",
    "unsigned long long ull;"
   ]
  },
  {
   "cell_type": "markdown",
   "metadata": {
    "vscode": {
     "languageId": "plaintext"
    }
   },
   "source": [
    "### Overflow\n",
    "- “wraps around” / “modulo wrapping”"
   ]
  },
  {
   "cell_type": "code",
   "execution_count": 6,
   "metadata": {
    "vscode": {
     "languageId": "cpp"
    }
   },
   "outputs": [
    {
     "name": "stderr",
     "output_type": "stream",
     "text": [
      "input_line_12:5:9: warning: implicit conversion from 'int' to 'unsigned short' changes value from 65536 to 0 [-Wconstant-conversion]\n",
      "    x = 65536; // 65536 is out of our range, so we get modulo wrap-around\n",
      "      ~ ^~~~~\n",
      "input_line_12:7:9: warning: implicit conversion from 'int' to 'unsigned short' changes value from 65537 to 1 [-Wconstant-conversion]\n",
      "    x = 65537; // 65537 is out of our range, so we get modulo wrap-around\n",
      "      ~ ^~~~~\n"
     ]
    },
    {
     "name": "stdout",
     "output_type": "stream",
     "text": [
      "x was: 65535\n",
      "x is now: 0\n",
      "x is now: 1\n",
      "----------------------------------\n",
      "y was: 0\n",
      "y is now: 65535\n",
      "y is now: 65534\n"
     ]
    }
   ],
   "source": [
    "int main()\n",
    "{\n",
    "    unsigned short x{ 65535 }; // largest 16-bit unsigned value possible\n",
    "    std::cout << \"x was: \" << x << '\\n';\n",
    "\n",
    "    x = 65536; // 65536 is out of our range, so we get modulo wrap-around\n",
    "    std::cout << \"x is now: \" << x << '\\n';\n",
    "\n",
    "    x = 65537; // 65537 is out of our range, so we get modulo wrap-around\n",
    "    std::cout << \"x is now: \" << x << '\\n';\n",
    "\n",
    "    std::cout << \"----------------------------------\" << '\\n';\n",
    "\n",
    "    unsigned short y{ 0 }; // smallest 2-byte unsigned value possible\n",
    "    std::cout << \"y was: \" << y << '\\n';\n",
    "\n",
    "    y = -1; // -1 is out of our range, so we get modulo wrap-around\n",
    "    std::cout << \"y is now: \" << y << '\\n';\n",
    "\n",
    "    y = -2; // -2 is out of our range, so we get modulo wrap-around\n",
    "    std::cout << \"y is now: \" << y << '\\n';\n",
    "\n",
    "    return 0;\n",
    "}\n",
    "\n",
    "\n",
    "main();"
   ]
  },
  {
   "cell_type": "markdown",
   "metadata": {},
   "source": [
    "- Second, and more insidiously, unexpected behavior can result when you mix signed and unsigned integers. In C++, if a mathematical operation (e.g. arithmetic or comparison) has one signed integer and one unsigned integer, the signed integer will usually be converted to an unsigned integer. And the result will thus be unsigned. For example:\n",
    "\n",
    "- You have 4 bits to hold the number\n",
    "  - signed `-1` -> `1 0 0 1`. First bit(MSB - Most Significant Bit) is reserved for sign (+ / -).\n",
    "  - Comparision b/w signed and unsigned => signed is converted into unsigned\n",
    "  - `1 0 0 1` -> converted to value is `9` (which looks like wrap around / modulo wrapping)"
   ]
  },
  {
   "cell_type": "code",
   "execution_count": 7,
   "metadata": {
    "vscode": {
     "languageId": "cpp"
    }
   },
   "outputs": [
    {
     "name": "stdout",
     "output_type": "stream",
     "text": [
      "1 is less than -1\n"
     ]
    }
   ],
   "source": [
    "// assume int is 4 bytes\n",
    "int main()\n",
    "{\n",
    "    signed int s { -1 };\n",
    "    unsigned int u { 1 };\n",
    "\n",
    "    if (s < u) // -1 is implicitly converted to 4294967295, and 4294967295 < 1 is false\n",
    "        std::cout << \"-1 is less than 1\\n\";\n",
    "    else\n",
    "        std::cout << \"1 is less than -1\\n\"; // this statement executes\n",
    "\n",
    "    return 0;\n",
    "}\n",
    "\n",
    "main();"
   ]
  },
  {
   "cell_type": "markdown",
   "metadata": {},
   "source": [
    "---\n",
    "\n",
    "## Fixed Width Integers\n",
    "\n",
    "- `C++11` provides an alternate set of integer types that are guaranteed to be the same size on any architecture. \n",
    "- The fixed-width integers are defined in the `<cstdint>` header. \n",
    "- `std::int#_t` (signed) or `std::uint#_t` (unsigned) where `#` can be [8, 16, 32, 64] bits i.e., [1, 2, 4, 8] bytes\n",
    "- **Warning:** `std::int8_t` and `std::uint8_t` typically behave like chars\n",
    "\n",
    "### Issues\n",
    "- The fixed-width integers are not guaranteed to be defined on all architectures.\n",
    "- If you use a fixed-width integer, it may be slower than a wider type on some architectures.\n",
    "\n",
    "\n",
    "### Fast and least integral types\n",
    "\n",
    "- To help address the above downsides, C++ also defines two alternative sets of integers that are guaranteed to exist.\n",
    "- The fast types (`std::int_fast#_t` and `std::uint_fast#_t`) provide the fastest signed/unsigned integer type with a width of at least `#` bits (where # = 8, 16, 32, or 64). \n",
    "- The least types (`std::int_least#_t` and `std::uint_least#_t`) provide the smallest signed/unsigned integer type with a width of at least `#` bits (where # = 8, 16, 32, or 64).\n",
    "\n"
   ]
  },
  {
   "cell_type": "code",
   "execution_count": 8,
   "metadata": {
    "vscode": {
     "languageId": "cpp"
    }
   },
   "outputs": [
    {
     "name": "stdout",
     "output_type": "stream",
     "text": [
      "4 bytes.\n",
      "----------------------------------\n",
      "A\n"
     ]
    }
   ],
   "source": [
    "#include <cstdint> // for fixed-width integers\n",
    "#include <iostream>\n",
    "\n",
    "int main()\n",
    "{\n",
    "    std::int32_t x { 32767 }; // x is always a 32-bit integer\n",
    "    std::cout << sizeof(x) << \" bytes.\\n\";\n",
    "\n",
    "    std::cout << \"----------------------------------\" << '\\n';\n",
    "    \n",
    "    std::int8_t y { 65 };   // initialize 8-bit integral type with value 65\n",
    "    std::cout << y << '\\n'; // You're probably expecting this to print 65\n",
    "\n",
    "    return 0;\n",
    "}\n",
    "\n",
    "\n",
    "main();"
   ]
  },
  {
   "cell_type": "code",
   "execution_count": 9,
   "metadata": {
    "vscode": {
     "languageId": "cpp"
    }
   },
   "outputs": [
    {
     "name": "stdout",
     "output_type": "stream",
     "text": [
      "least 8:  8 bits\n",
      "least 16: 16 bits\n",
      "least 32: 32 bits\n",
      "\n",
      "fast 8:  8 bits\n",
      "fast 16: 64 bits\n",
      "fast 32: 64 bits\n"
     ]
    }
   ],
   "source": [
    "#include <cstdint> // for fast and least types\n",
    "#include <iostream>\n",
    "\n",
    "int main()\n",
    "{\n",
    "\tstd::cout << \"least 8:  \" << sizeof(std::int_least8_t)  * 8 << \" bits\\n\";\n",
    "\tstd::cout << \"least 16: \" << sizeof(std::int_least16_t) * 8 << \" bits\\n\";\n",
    "\tstd::cout << \"least 32: \" << sizeof(std::int_least32_t) * 8 << \" bits\\n\";\n",
    "\tstd::cout << '\\n';\n",
    "\tstd::cout << \"fast 8:  \"  << sizeof(std::int_fast8_t)   * 8 << \" bits\\n\";\n",
    "\tstd::cout << \"fast 16: \"  << sizeof(std::int_fast16_t)  * 8 << \" bits\\n\";\n",
    "\tstd::cout << \"fast 32: \"  << sizeof(std::int_fast32_t)  * 8 << \" bits\\n\";\n",
    "\n",
    "\treturn 0;\n",
    "}\n",
    "\n",
    "\n",
    "main();"
   ]
  },
  {
   "cell_type": "markdown",
   "metadata": {},
   "source": [
    "---\n",
    "### sizeof_t\n",
    "\n",
    "- We can infer that operator `sizeof` returns an integer value -- but what integral type is that return value? An int? A short? The answer is that `sizeof` returns a value of type `std::size_t`.\n",
    "- `std::size_t` is an alias for an implementation-defined unsigned integral type. \n",
    "- In other words, the compiler decides if `std::size_t` is an unsigned int, an unsigned long, an unsigned long long, etc…\n",
    "- std::size_t is actually a `typedef`."
   ]
  },
  {
   "cell_type": "code",
   "execution_count": 10,
   "metadata": {
    "vscode": {
     "languageId": "cpp"
    }
   },
   "outputs": [
    {
     "name": "stdout",
     "output_type": "stream",
     "text": [
      "4\n",
      "8\n"
     ]
    }
   ],
   "source": [
    "#include <cstddef>  // for std::size_t\n",
    "#include <iostream>\n",
    "\n",
    "int main()\n",
    "{\n",
    "    int x { 5 };\n",
    "    std::size_t s { sizeof(x) }; // sizeof returns a value of type std::size_t, so that should be the type of s\n",
    "    std::cout << s << '\\n';\n",
    "\n",
    "    // Amusingly, we can use the sizeof operator (which returns a value of type std::size_t) to ask for the size of std::size_t itself:\n",
    "    std::cout << sizeof(std::size_t) << '\\n';\n",
    "\n",
    "    return 0;\n",
    "}\n",
    "\n",
    "\n",
    "main();"
   ]
  },
  {
   "cell_type": "markdown",
   "metadata": {},
   "source": [
    "---\n",
    "## Scientific Notation\n",
    "\n",
    "- Because it can be hard to type or display exponents in C++, we use the letter ‘e’ (or sometimes ‘E’) to represent the “times 10 to the power of” part of the equation. For example, 1.2 x 10⁴ would be written as 1.2e4, and 5.9722 x 10²⁴ would be written as 5.9722e24.\n",
    "- For numbers smaller than 1, the exponent can be negative. The number 5e-2 is equivalent to 5 * 10⁻², which is 5 / 10², or 0.05. The mass of an electron is 9.1093837e-31 kg."
   ]
  },
  {
   "cell_type": "code",
   "execution_count": 11,
   "metadata": {
    "vscode": {
     "languageId": "cpp"
    }
   },
   "outputs": [
    {
     "name": "stdout",
     "output_type": "stream",
     "text": [
      "314000\n",
      "3.14e+06\n",
      "0.000314\n",
      "3.14e-05\n"
     ]
    }
   ],
   "source": [
    "float x =  3.14e5;\n",
    "float x1 =  3.14e6;\n",
    "double y = 3.14e-4;\n",
    "double y1 = 3.14e-5;\n",
    "\n",
    "std::cout << x << '\\n' << x1 << '\\n';\n",
    "std::cout << y << '\\n' << y1 << '\\n';"
   ]
  },
  {
   "cell_type": "markdown",
   "metadata": {},
   "source": [
    "---\n",
    "### Floating point numbers\n",
    "\n",
    "- C++ has three fundamental floating point data types: a single-precision `float` (4 bytes), a double-precision `double` (8 bytes), and an extended-precision `long double` (8, 12 or 16 bytes). As with integers, C++ does not define the actual size of these types.\n",
    "- On modern architectures, floating-point types are conventionally implemented using one of the floating-point formats defined in the IEEE 754 standard (see https://en.wikipedia.org/wiki/IEEE_754). As a result, float is almost always 4 bytes, and double is almost always 8 bytes.\n",
    "- On the other hand, long double is a strange type. On different platforms, its size can vary between 8 and 16 bytes, and it may or may not use an IEEE 754 compliant format. We recommend avoiding long double.\n",
    "- Note that by default, floating point literals default to type double. An `f` suffix is used to denote a literal of type float.\n"
   ]
  },
  {
   "cell_type": "code",
   "execution_count": 12,
   "metadata": {
    "vscode": {
     "languageId": "cpp"
    }
   },
   "outputs": [
    {
     "name": "stdout",
     "output_type": "stream",
     "text": [
      "float: true\n",
      "double: true\n",
      "long double: true\n"
     ]
    }
   ],
   "source": [
    "#include <iostream>\n",
    "#include <limits>\n",
    "\n",
    "int main()\n",
    "{\n",
    "    std::cout << std::boolalpha; // print bool as true or false rather than 1 or 0\n",
    "    std::cout << \"float: \" << std::numeric_limits<float>::is_iec559 << '\\n';\n",
    "    std::cout << \"double: \" << std::numeric_limits<double>::is_iec559 << '\\n';\n",
    "    std::cout << \"long double: \" << std::numeric_limits<long double>::is_iec559 << '\\n'; // Can vary by platform\n",
    "}\n",
    "\n",
    "\n",
    "main();"
   ]
  },
  {
   "cell_type": "code",
   "execution_count": 13,
   "metadata": {
    "vscode": {
     "languageId": "cpp"
    }
   },
   "outputs": [
    {
     "name": "stdout",
     "output_type": "stream",
     "text": [
      "5\n",
      "6.7\n",
      "9.87654e+06\n"
     ]
    },
    {
     "data": {
      "text/plain": [
       "@0x77b3705fcd20"
      ]
     },
     "execution_count": 13,
     "metadata": {},
     "output_type": "execute_result"
    }
   ],
   "source": [
    "// Floating point variables and literals\n",
    "float f; // Precision: 6-9 significant digits, typically 7\n",
    "double d; // Precision: 15-18 significant digits, typically 16\n",
    "long double ld; \n",
    "\n",
    "int a { 5 };      // 5 means integer\n",
    "double b { 5.0 }; // 5.0 is a floating point literal (no suffix means double type by `default`)\n",
    "float c { 5.0f }; // 5.0 is a floating point literal, f suffix means float type\n",
    "\n",
    "\n",
    "// Printing floating point numbers\n",
    "std::cout << 5.0 << '\\n'; // By default, std::cout will not print the fractional part of a number if the fractional part is 0.\n",
    "std::cout << 6.7f << '\\n';\n",
    "std::cout << 9876543.21 << '\\n'; // Printed in scientific notation"
   ]
  },
  {
   "cell_type": "code",
   "execution_count": 14,
   "metadata": {
    "vscode": {
     "languageId": "cpp"
    }
   },
   "outputs": [
    {
     "name": "stdout",
     "output_type": "stream",
     "text": [
      "9.87654\n",
      "987.654\n",
      "987654\n",
      "9.87654e+06\n",
      "9.87654e-05\n"
     ]
    }
   ],
   "source": [
    "/*\n",
    "When outputting floating point numbers, std::cout has a default precision of 6 i.e., \n",
    "it assumes all floating point variables are only significant to 6 digits (the minimum precision of a float), \n",
    "and hence it will truncate anything after that.\n",
    "*/\n",
    "\n",
    "std::cout << 9.87654321f << '\\n';\n",
    "std::cout << 987.654321f << '\\n';\n",
    "std::cout << 987654.321f << '\\n';\n",
    "std::cout << 9876543.21f << '\\n';\n",
    "std::cout << 0.0000987654321f << '\\n';"
   ]
  },
  {
   "cell_type": "markdown",
   "metadata": {},
   "source": [
    "### Output Manipulator\n",
    "\n",
    "- We can override the default precision that std::cout shows by using an `output manipulator` function named `std::setprecision()`\n",
    "- Defined in the `iomanip` header."
   ]
  },
  {
   "cell_type": "code",
   "execution_count": 15,
   "metadata": {
    "vscode": {
     "languageId": "cpp"
    }
   },
   "outputs": [
    {
     "name": "stdout",
     "output_type": "stream",
     "text": [
      "3.3333332538604736\n",
      "3.3333333333333335\n"
     ]
    }
   ],
   "source": [
    "#include <iomanip> // for output manipulator std::setprecision()\n",
    "#include <iostream>\n",
    "\n",
    "int main()\n",
    "{\n",
    "    std::cout << std::setprecision(17); // show 17 digits of precision\n",
    "    std::cout << 3.33333333333333333333333333333333333333f <<'\\n'; // f suffix means float\n",
    "    std::cout << 3.33333333333333333333333333333333333333 << '\\n'; // no suffix means double\n",
    "\n",
    "    return 0;\n",
    "}\n",
    "\n",
    "\n",
    "/*\n",
    "Because we set the precision to 17 digits using std::setprecision(), each of the above numbers is printed with 17 digits. \n",
    "But, as you can see, the numbers certainly aren’t precise to 17 digits! And because floats are less precise than doubles, the float has more error.\n",
    "*/\n",
    "main();"
   ]
  },
  {
   "cell_type": "code",
   "execution_count": 16,
   "metadata": {
    "vscode": {
     "languageId": "cpp"
    }
   },
   "outputs": [
    {
     "name": "stdout",
     "output_type": "stream",
     "text": [
      "123456792\n"
     ]
    }
   ],
   "source": [
    "#include <iomanip> // for std::setprecision()\n",
    "#include <iostream>\n",
    "\n",
    "int main()\n",
    "{\n",
    "    float f { 123456789.0f }; // f has 10 significant digits\n",
    "    std::cout << std::setprecision(9); // to show 9 digits in f\n",
    "    std::cout << f << '\\n';\n",
    "\n",
    "    return 0;\n",
    "}\n",
    "\n",
    "\n",
    "/*\n",
    "The value 123456789.0 has 10 significant digits, but float values typically have 7 digits of precision (and the result of 123456792 is precise only to 7 significant digits).\n",
    "We lost some precision! When precision is lost because a number can’t be stored precisely, this is called a rounding error.\n",
    "*/\n",
    "main();"
   ]
  },
  {
   "cell_type": "markdown",
   "metadata": {},
   "source": [
    "### NaN and Inf\n",
    "\n",
    "IEEE 754 compatible formats additionally support some special values:\n",
    "- **Inf**, which represents infinity. Inf is signed, and can be positive (+Inf) or negative (-Inf).\n",
    "- **NaN**, which stands for “Not a Number”. There are several different kinds of NaN.\n",
    "\n",
    "\n"
   ]
  },
  {
   "cell_type": "code",
   "execution_count": 17,
   "metadata": {
    "vscode": {
     "languageId": "cpp"
    }
   },
   "outputs": [
    {
     "name": "stdout",
     "output_type": "stream",
     "text": [
      "inf\n",
      "-inf\n",
      "0\n",
      "-0\n",
      "-nan\n"
     ]
    }
   ],
   "source": [
    "#include <iostream>\n",
    "\n",
    "int main()\n",
    "{\n",
    "    double zero { 0.0 };\n",
    "\n",
    "    double posinf { 5.0 / zero }; // positive infinity\n",
    "    std::cout << posinf << '\\n';\n",
    "\n",
    "    double neginf { -5.0 / zero }; // negative infinity\n",
    "    std::cout << neginf << '\\n';\n",
    "\n",
    "    double z1 { 0.0 / posinf }; // positive zero\n",
    "    std::cout << z1 << '\\n';\n",
    "\n",
    "    double z2 { -0.0 / posinf }; // negative zero\n",
    "    std::cout << z2 << '\\n';\n",
    "\n",
    "    double nan { zero / zero }; // not a number (mathematically invalid)\n",
    "    std::cout << nan << '\\n';\n",
    "\n",
    "    return 0;\n",
    "}\n",
    "\n",
    "\n",
    "main();"
   ]
  },
  {
   "cell_type": "markdown",
   "metadata": {},
   "source": [
    "---\n",
    "## Boolean Values\n",
    "\n",
    "- https://www.learncpp.com/cpp-tutorial/boolean-values/"
   ]
  },
  {
   "cell_type": "markdown",
   "metadata": {},
   "source": [
    "---\n",
    "## Introduction to if statements\n",
    "\n",
    "- https://www.learncpp.com/cpp-tutorial/introduction-to-if-statements/"
   ]
  },
  {
   "cell_type": "markdown",
   "metadata": {},
   "source": [
    "---\n",
    "## Chars\n",
    "\n",
    "- The char data type is an integral type, meaning the underlying value is stored as an integer. Similar to how a Boolean value 0 is interpreted as false and non-zero is interpreted as true, the integer stored by a char variable are intepreted as an ASCII character.\n",
    "- `ASCII` stands for `American Standard Code for Information Interchange`, and it defines a particular way to represent English characters (plus a few other symbols) as numbers between 0 and 127 (called an ASCII code or code point). For example, ASCII code 97 is interpreted as the character ‘a’.\n",
    "\n",
    "\n",
    "\n",
    "\n",
    "- https://www.learncpp.com/cpp-tutorial/chars/"
   ]
  },
  {
   "cell_type": "code",
   "execution_count": 18,
   "metadata": {
    "vscode": {
     "languageId": "cpp"
    }
   },
   "outputs": [
    {
     "name": "stdout",
     "output_type": "stream",
     "text": [
      "a\n",
      "a\n",
      "\u0005\n",
      "5\n"
     ]
    }
   ],
   "source": [
    "char ch1{ 'a' }; // initialize with code point for 'a' (stored as integer 97) (preferred)\n",
    "char ch2{ 97 }; // initialize with integer 97 ('a') (not preferred)\n",
    "std::cout << ch1 << '\\n' << ch2 << '\\n';\n",
    "\n",
    "\n",
    "char ch3{5}; // initialize with integer 5 (stored as integer 5 - ascii code)\n",
    "char ch4{'5'}; // initialize with code point for '5' (stored as integer 53 - ascii code)\n",
    "std::cout << ch3 << '\\n' << ch4 << '\\n';\n"
   ]
  },
  {
   "cell_type": "code",
   "execution_count": 19,
   "metadata": {
    "vscode": {
     "languageId": "cpp"
    }
   },
   "outputs": [
    {
     "name": "stdout",
     "output_type": "stream",
     "text": [
      "Input a keyboard character: You entered: a\n",
      "You entered: b\n"
     ]
    }
   ],
   "source": [
    "#include <iostream>\n",
    "#include <sstream> // For istringstream\n",
    "\n",
    "\n",
    "int main()\n",
    "{\n",
    "    // Simulated input\n",
    "    std::istringstream input(\"abcd\"); \n",
    "    std::cin.rdbuf(input.rdbuf()); // Redirect std::cin to use input\n",
    "\n",
    "\n",
    "    std::cout << \"Input a keyboard character: \"; // assume the user enters \"abcd\" (without quotes)\n",
    "\n",
    "    char ch{};\n",
    "    std::cin >> ch; // ch = 'a', \"bcd\" is left queued.\n",
    "    std::cout << \"You entered: \" << ch << '\\n';\n",
    "\n",
    "    // Note: The following cin doesn't ask the user for input, it grabs queued input!\n",
    "    std::cin >> ch; // ch = 'b', \"cd\" is left queued.\n",
    "    std::cout << \"You entered: \" << ch << '\\n';\n",
    "\n",
    "    return 0;\n",
    "}\n",
    "\n",
    "\n",
    "main();"
   ]
  },
  {
   "cell_type": "code",
   "execution_count": 20,
   "metadata": {
    "vscode": {
     "languageId": "cpp"
    }
   },
   "outputs": [
    {
     "name": "stdout",
     "output_type": "stream",
     "text": [
      "Input a keyboard character: You entered: a\n",
      "You entered: b\n"
     ]
    }
   ],
   "source": [
    "// Extracting whitespace characters\n",
    "#include <iostream>\n",
    "#include <sstream> // For istringstream\n",
    "\n",
    "\n",
    "int main()\n",
    "{\n",
    "    // Simulated input\n",
    "    std::istringstream input(\"a b\"); \n",
    "    std::cin.rdbuf(input.rdbuf()); // Redirect std::cin to use input\n",
    "\n",
    "    \n",
    "    std::cout << \"Input a keyboard character: \"; // assume the user enters \"a b\" (without quotes)\n",
    "\n",
    "    char ch{};\n",
    "    std::cin >> ch; // extracts a, leaves \" b\\n\" in stream\n",
    "    std::cout << \"You entered: \" << ch << '\\n';\n",
    "\n",
    "    std::cin >> ch; // skips leading whitespace (the space), extracts b, leaves \"\\n\" in stream\n",
    "    std::cout << \"You entered: \" << ch << '\\n';\n",
    "\n",
    "    return 0;\n",
    "}\n",
    "\n",
    "\n",
    "main();"
   ]
  },
  {
   "cell_type": "code",
   "execution_count": 21,
   "metadata": {
    "vscode": {
     "languageId": "cpp"
    }
   },
   "outputs": [
    {
     "name": "stdout",
     "output_type": "stream",
     "text": [
      "Input a keyboard character: You entered: a\n",
      "You entered:  \n"
     ]
    }
   ],
   "source": [
    "// cin.get() to perform whitespace extraction\n",
    "#include <iostream>\n",
    "#include <sstream> // For istringstream\n",
    "\n",
    "int main()\n",
    "{\n",
    "    // Simulated input\n",
    "    std::istringstream input(\"a b\"); \n",
    "    std::cin.rdbuf(input.rdbuf()); // Redirect std::cin to use input\n",
    "\n",
    "\n",
    "    std::cout << \"Input a keyboard character: \"; // assume the user enters \"a b\" (without quotes)\n",
    "\n",
    "    char ch{};\n",
    "    std::cin.get(ch); // extracts a, leaves \" b\\n\" in stream\n",
    "    std::cout << \"You entered: \" << ch << '\\n';\n",
    "\n",
    "    std::cin.get(ch); // extracts space, leaves \"b\\n\" in stream\n",
    "    std::cout << \"You entered: \" << ch << '\\n';\n",
    "\n",
    "    return 0;\n",
    "}\n",
    "\n",
    "\n",
    "main();"
   ]
  },
  {
   "cell_type": "markdown",
   "metadata": {},
   "source": [
    "- `char16_t` and `char32_t` were added to C++11 to provide explicit support for 16-bit and 32-bit Unicode characters. \n",
    "- `char8_t` was added in C++20 to provide support for 8-bit Unicode (UTF-8).\n",
    "- `wchar_t` should be avoided in almost all cases (except when interfacing with the Windows API), as its size is implementation-defined."
   ]
  },
  {
   "cell_type": "markdown",
   "metadata": {},
   "source": [
    "---\n",
    "\n",
    "## Type Conversion and static_cast\n",
    "\n",
    "- The process of converting a value from one type to another type is called type conversion. \n",
    "- In most cases, C++ will allow us to convert values of one fundamental type to another fundamental type.\n",
    "- When the compiler does type conversion on our behalf without us explicitly asking, we call this **implicit type conversion**.\n",
    "\n",
    "### Type conversion produces a new value\n",
    "\n",
    "- Even though it is called a conversion, a type conversion does not actually change the value or type of the value being converted. Instead, the value to be converted is used as input, and the conversion results in a new value of the target type.\n",
    "\n",
    "### Explicit type conversion via the static_cast operator\n",
    "\n",
    "- To perform an explicit type conversion, in most cases we’ll use the static_cast operator.\n",
    "> `static_cast<new_type>(expression)`"
   ]
  },
  {
   "cell_type": "code",
   "execution_count": 22,
   "metadata": {
    "vscode": {
     "languageId": "cpp"
    }
   },
   "outputs": [
    {
     "name": "stdout",
     "output_type": "stream",
     "text": [
      "5\n"
     ]
    }
   ],
   "source": [
    "// Implicit Type Conversion\n",
    "#include <iostream>\n",
    "\n",
    "void print(double x) // print takes a double parameter\n",
    "{\n",
    "\tstd::cout << x << '\\n';\n",
    "}\n",
    "\n",
    "\n",
    "// int main () { ... }\n",
    "// By default, floating point values whose decimal part is 0 print without the decimal places (e.g. 5.0 prints as 5).\n",
    "print(5); // what happens when we pass an int value?\n"
   ]
  },
  {
   "cell_type": "code",
   "execution_count": 23,
   "metadata": {
    "vscode": {
     "languageId": "cpp"
    }
   },
   "outputs": [
    {
     "name": "stderr",
     "output_type": "stream",
     "text": [
      "input_line_48:7:11: warning: implicit conversion from 'double' to 'int' changes value from 5.5 to 5 [-Wliteral-conversion]\n",
      " printInt(5.5); // warning: we're passing in a double value\n",
      " ~~~~~~~~ ^~~\n"
     ]
    },
    {
     "name": "stdout",
     "output_type": "stream",
     "text": [
      "5\n",
      "5\n"
     ]
    }
   ],
   "source": [
    "// Explicit Type Conversion\n",
    "#include <iostream>\n",
    "\n",
    "void printInt(int x) // print now takes an int parameter\n",
    "{\n",
    "\tstd::cout << x << '\\n';\n",
    "}\n",
    "\n",
    "\n",
    "// int main () { ... }\n",
    "printInt(5.5); // warning: we're passing in a double value\n",
    "printInt(static_cast<int>(5.5)); // explicitly convert double value 5.5 to an int\n"
   ]
  },
  {
   "cell_type": "markdown",
   "metadata": {},
   "source": [
    "- https://www.learncpp.com/cpp-tutorial/introduction-to-type-conversion-and-static_cast/\n",
    "  - Using static_cast to convert char to int\n",
    "  - Sign Conversions using static_cast\n",
    "  - std::int8_t and std::uint8_t likely behave like chars instead of integers"
   ]
  }
 ],
 "metadata": {
  "kernelspec": {
   "display_name": "C++17",
   "language": "C++17",
   "name": "xcpp17"
  },
  "language_info": {
   "codemirror_mode": "text/x-c++src",
   "file_extension": ".cpp",
   "mimetype": "text/x-c++src",
   "name": "c++",
   "version": "17"
  }
 },
 "nbformat": 4,
 "nbformat_minor": 2
}
